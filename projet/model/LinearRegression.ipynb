{
 "cells": [
  {
   "cell_type": "code",
   "execution_count": 154,
   "id": "2205a558-618d-4dcd-b8b7-f72f130d9feb",
   "metadata": {},
   "outputs": [],
   "source": [
    "from sklearn.linear_model import LinearRegression\n",
    "from sklearn.metrics import mean_absolute_error\n",
    "from sklearn.preprocessing import OneHotEncoder\n",
    "import pandas as pd\n",
    "import pickle as pk"
   ]
  },
  {
   "cell_type": "code",
   "execution_count": 155,
   "id": "cfe4419f-db7d-4ff3-a43a-8f8debc463c6",
   "metadata": {},
   "outputs": [
    {
     "data": {
      "text/plain": [
       "array([[0., 0., 1., 0., 0.],\n",
       "       [0., 0., 1., 0., 0.],\n",
       "       [0., 1., 0., 0., 0.],\n",
       "       ...,\n",
       "       [0., 0., 1., 0., 0.],\n",
       "       [0., 0., 1., 0., 0.],\n",
       "       [0., 0., 1., 0., 0.]])"
      ]
     },
     "execution_count": 155,
     "metadata": {},
     "output_type": "execute_result"
    }
   ],
   "source": [
    "df_rental_price = pd.read_csv('./databases/clean_teste_indicium_precificacao.csv')\n",
    "rental_price_model = LinearRegression()\n",
    "encoder = OneHotEncoder()\n",
    "bairros_encoded = encoder.fit_transform(df_rental_price[['bairro_group']]).toarray()\n",
    "bairros_encoded"
   ]
  },
  {
   "cell_type": "code",
   "execution_count": 156,
   "id": "57a6768f-ac13-4046-8a14-e32fcaf96a2b",
   "metadata": {},
   "outputs": [],
   "source": [
    "#Definindo os parâmetros para treinamento do modelo\n",
    "y = df_rental_price.price\n",
    "\n",
    "model_features = ['host_id','latitude', 'longitude', 'minimo_noites', 'disponibilidade_365', 'Entire home/apt', 'Private room', 'Shared room']\n",
    "X = df_rental_price[model_features]"
   ]
  },
  {
   "cell_type": "code",
   "execution_count": 157,
   "id": "703e5be5-17f2-42b8-8a1d-3a75a762253e",
   "metadata": {},
   "outputs": [
    {
     "data": {
      "text/html": [
       "<style>#sk-container-id-15 {color: black;}#sk-container-id-15 pre{padding: 0;}#sk-container-id-15 div.sk-toggleable {background-color: white;}#sk-container-id-15 label.sk-toggleable__label {cursor: pointer;display: block;width: 100%;margin-bottom: 0;padding: 0.3em;box-sizing: border-box;text-align: center;}#sk-container-id-15 label.sk-toggleable__label-arrow:before {content: \"▸\";float: left;margin-right: 0.25em;color: #696969;}#sk-container-id-15 label.sk-toggleable__label-arrow:hover:before {color: black;}#sk-container-id-15 div.sk-estimator:hover label.sk-toggleable__label-arrow:before {color: black;}#sk-container-id-15 div.sk-toggleable__content {max-height: 0;max-width: 0;overflow: hidden;text-align: left;background-color: #f0f8ff;}#sk-container-id-15 div.sk-toggleable__content pre {margin: 0.2em;color: black;border-radius: 0.25em;background-color: #f0f8ff;}#sk-container-id-15 input.sk-toggleable__control:checked~div.sk-toggleable__content {max-height: 200px;max-width: 100%;overflow: auto;}#sk-container-id-15 input.sk-toggleable__control:checked~label.sk-toggleable__label-arrow:before {content: \"▾\";}#sk-container-id-15 div.sk-estimator input.sk-toggleable__control:checked~label.sk-toggleable__label {background-color: #d4ebff;}#sk-container-id-15 div.sk-label input.sk-toggleable__control:checked~label.sk-toggleable__label {background-color: #d4ebff;}#sk-container-id-15 input.sk-hidden--visually {border: 0;clip: rect(1px 1px 1px 1px);clip: rect(1px, 1px, 1px, 1px);height: 1px;margin: -1px;overflow: hidden;padding: 0;position: absolute;width: 1px;}#sk-container-id-15 div.sk-estimator {font-family: monospace;background-color: #f0f8ff;border: 1px dotted black;border-radius: 0.25em;box-sizing: border-box;margin-bottom: 0.5em;}#sk-container-id-15 div.sk-estimator:hover {background-color: #d4ebff;}#sk-container-id-15 div.sk-parallel-item::after {content: \"\";width: 100%;border-bottom: 1px solid gray;flex-grow: 1;}#sk-container-id-15 div.sk-label:hover label.sk-toggleable__label {background-color: #d4ebff;}#sk-container-id-15 div.sk-serial::before {content: \"\";position: absolute;border-left: 1px solid gray;box-sizing: border-box;top: 0;bottom: 0;left: 50%;z-index: 0;}#sk-container-id-15 div.sk-serial {display: flex;flex-direction: column;align-items: center;background-color: white;padding-right: 0.2em;padding-left: 0.2em;position: relative;}#sk-container-id-15 div.sk-item {position: relative;z-index: 1;}#sk-container-id-15 div.sk-parallel {display: flex;align-items: stretch;justify-content: center;background-color: white;position: relative;}#sk-container-id-15 div.sk-item::before, #sk-container-id-15 div.sk-parallel-item::before {content: \"\";position: absolute;border-left: 1px solid gray;box-sizing: border-box;top: 0;bottom: 0;left: 50%;z-index: -1;}#sk-container-id-15 div.sk-parallel-item {display: flex;flex-direction: column;z-index: 1;position: relative;background-color: white;}#sk-container-id-15 div.sk-parallel-item:first-child::after {align-self: flex-end;width: 50%;}#sk-container-id-15 div.sk-parallel-item:last-child::after {align-self: flex-start;width: 50%;}#sk-container-id-15 div.sk-parallel-item:only-child::after {width: 0;}#sk-container-id-15 div.sk-dashed-wrapped {border: 1px dashed gray;margin: 0 0.4em 0.5em 0.4em;box-sizing: border-box;padding-bottom: 0.4em;background-color: white;}#sk-container-id-15 div.sk-label label {font-family: monospace;font-weight: bold;display: inline-block;line-height: 1.2em;}#sk-container-id-15 div.sk-label-container {text-align: center;}#sk-container-id-15 div.sk-container {/* jupyter's `normalize.less` sets `[hidden] { display: none; }` but bootstrap.min.css set `[hidden] { display: none !important; }` so we also need the `!important` here to be able to override the default hidden behavior on the sphinx rendered scikit-learn.org. See: https://github.com/scikit-learn/scikit-learn/issues/21755 */display: inline-block !important;position: relative;}#sk-container-id-15 div.sk-text-repr-fallback {display: none;}</style><div id=\"sk-container-id-15\" class=\"sk-top-container\"><div class=\"sk-text-repr-fallback\"><pre>LinearRegression()</pre><b>In a Jupyter environment, please rerun this cell to show the HTML representation or trust the notebook. <br />On GitHub, the HTML representation is unable to render, please try loading this page with nbviewer.org.</b></div><div class=\"sk-container\" hidden><div class=\"sk-item\"><div class=\"sk-estimator sk-toggleable\"><input class=\"sk-toggleable__control sk-hidden--visually\" id=\"sk-estimator-id-15\" type=\"checkbox\" checked><label for=\"sk-estimator-id-15\" class=\"sk-toggleable__label sk-toggleable__label-arrow\">LinearRegression</label><div class=\"sk-toggleable__content\"><pre>LinearRegression()</pre></div></div></div></div></div>"
      ],
      "text/plain": [
       "LinearRegression()"
      ]
     },
     "execution_count": 157,
     "metadata": {},
     "output_type": "execute_result"
    }
   ],
   "source": [
    "rental_price_model.fit(X, y)"
   ]
  },
  {
   "cell_type": "code",
   "execution_count": 158,
   "id": "314c6240-24f7-432e-a31d-060872f2f8df",
   "metadata": {},
   "outputs": [
    {
     "name": "stdout",
     "output_type": "stream",
     "text": [
      "Predição para os seguintes imóveis:\n",
      "   host_id  latitude  longitude  minimo_noites  disponibilidade_365  \\\n",
      "0     2845  40.75362  -73.98377              1                  355   \n",
      "1     4632  40.80902  -73.94190              3                  365   \n",
      "2     4869  40.68514  -73.95976              1                  194   \n",
      "3     7192  40.79851  -73.94399             10                    0   \n",
      "4     7322  40.74767  -73.97500              3                  129   \n",
      "\n",
      "   Entire home/apt  Private room  Shared room  \n",
      "0                1             0            0  \n",
      "1                0             1            0  \n",
      "2                1             0            0  \n",
      "3                1             0            0  \n",
      "4                1             0            0  \n",
      "As predições\n",
      "[180.48363723  99.4119279  158.13409563 153.14436306 165.71675666]\n"
     ]
    }
   ],
   "source": [
    "print('Predição para os seguintes imóveis:')\n",
    "print(X.head())\n",
    "print('As predições')\n",
    "print(rental_price_model.predict(X.head()))"
   ]
  },
  {
   "cell_type": "code",
   "execution_count": 159,
   "id": "bdf94eca-02fb-48a3-9498-4bb9011dd89b",
   "metadata": {},
   "outputs": [
    {
     "data": {
      "text/html": [
       "<div>\n",
       "<style scoped>\n",
       "    .dataframe tbody tr th:only-of-type {\n",
       "        vertical-align: middle;\n",
       "    }\n",
       "\n",
       "    .dataframe tbody tr th {\n",
       "        vertical-align: top;\n",
       "    }\n",
       "\n",
       "    .dataframe thead th {\n",
       "        text-align: right;\n",
       "    }\n",
       "</style>\n",
       "<table border=\"1\" class=\"dataframe\">\n",
       "  <thead>\n",
       "    <tr style=\"text-align: right;\">\n",
       "      <th></th>\n",
       "      <th>host_id</th>\n",
       "      <th>bairro_group</th>\n",
       "      <th>price</th>\n",
       "      <th>minimo_noites</th>\n",
       "      <th>numero_de_reviews</th>\n",
       "      <th>latitude</th>\n",
       "      <th>longitude</th>\n",
       "      <th>reviews_por_mes</th>\n",
       "      <th>disponibilidade_365</th>\n",
       "      <th>Entire home/apt</th>\n",
       "      <th>Private room</th>\n",
       "      <th>Shared room</th>\n",
       "    </tr>\n",
       "  </thead>\n",
       "  <tbody>\n",
       "    <tr>\n",
       "      <th>0</th>\n",
       "      <td>2845</td>\n",
       "      <td>Manhattan</td>\n",
       "      <td>225.0</td>\n",
       "      <td>1</td>\n",
       "      <td>45</td>\n",
       "      <td>40.75362</td>\n",
       "      <td>-73.98377</td>\n",
       "      <td>0.38</td>\n",
       "      <td>355</td>\n",
       "      <td>1</td>\n",
       "      <td>0</td>\n",
       "      <td>0</td>\n",
       "    </tr>\n",
       "    <tr>\n",
       "      <th>1</th>\n",
       "      <td>4632</td>\n",
       "      <td>Manhattan</td>\n",
       "      <td>150.0</td>\n",
       "      <td>3</td>\n",
       "      <td>0</td>\n",
       "      <td>40.80902</td>\n",
       "      <td>-73.94190</td>\n",
       "      <td>NaN</td>\n",
       "      <td>365</td>\n",
       "      <td>0</td>\n",
       "      <td>1</td>\n",
       "      <td>0</td>\n",
       "    </tr>\n",
       "    <tr>\n",
       "      <th>2</th>\n",
       "      <td>4869</td>\n",
       "      <td>Brooklyn</td>\n",
       "      <td>89.0</td>\n",
       "      <td>1</td>\n",
       "      <td>270</td>\n",
       "      <td>40.68514</td>\n",
       "      <td>-73.95976</td>\n",
       "      <td>4.64</td>\n",
       "      <td>194</td>\n",
       "      <td>1</td>\n",
       "      <td>0</td>\n",
       "      <td>0</td>\n",
       "    </tr>\n",
       "    <tr>\n",
       "      <th>3</th>\n",
       "      <td>7192</td>\n",
       "      <td>Manhattan</td>\n",
       "      <td>80.0</td>\n",
       "      <td>10</td>\n",
       "      <td>9</td>\n",
       "      <td>40.79851</td>\n",
       "      <td>-73.94399</td>\n",
       "      <td>0.10</td>\n",
       "      <td>0</td>\n",
       "      <td>1</td>\n",
       "      <td>0</td>\n",
       "      <td>0</td>\n",
       "    </tr>\n",
       "    <tr>\n",
       "      <th>4</th>\n",
       "      <td>7322</td>\n",
       "      <td>Manhattan</td>\n",
       "      <td>200.0</td>\n",
       "      <td>3</td>\n",
       "      <td>74</td>\n",
       "      <td>40.74767</td>\n",
       "      <td>-73.97500</td>\n",
       "      <td>0.59</td>\n",
       "      <td>129</td>\n",
       "      <td>1</td>\n",
       "      <td>0</td>\n",
       "      <td>0</td>\n",
       "    </tr>\n",
       "  </tbody>\n",
       "</table>\n",
       "</div>"
      ],
      "text/plain": [
       "   host_id bairro_group  price  minimo_noites  numero_de_reviews  latitude  \\\n",
       "0     2845    Manhattan  225.0              1                 45  40.75362   \n",
       "1     4632    Manhattan  150.0              3                  0  40.80902   \n",
       "2     4869     Brooklyn   89.0              1                270  40.68514   \n",
       "3     7192    Manhattan   80.0             10                  9  40.79851   \n",
       "4     7322    Manhattan  200.0              3                 74  40.74767   \n",
       "\n",
       "   longitude  reviews_por_mes  disponibilidade_365  Entire home/apt  \\\n",
       "0  -73.98377             0.38                  355                1   \n",
       "1  -73.94190              NaN                  365                0   \n",
       "2  -73.95976             4.64                  194                1   \n",
       "3  -73.94399             0.10                    0                1   \n",
       "4  -73.97500             0.59                  129                1   \n",
       "\n",
       "   Private room  Shared room  \n",
       "0             0            0  \n",
       "1             1            0  \n",
       "2             0            0  \n",
       "3             0            0  \n",
       "4             0            0  "
      ]
     },
     "execution_count": 159,
     "metadata": {},
     "output_type": "execute_result"
    }
   ],
   "source": [
    "df_rental_price.head()"
   ]
  },
  {
   "cell_type": "code",
   "execution_count": 160,
   "id": "84c4b785-03da-4c5f-bb56-b2f571da5f33",
   "metadata": {},
   "outputs": [
    {
     "data": {
      "text/plain": [
       "38.438059753909656"
      ]
     },
     "execution_count": 160,
     "metadata": {},
     "output_type": "execute_result"
    }
   ],
   "source": [
    "predicted_values = rental_price_model.predict(X)\n",
    "mean_absolute_error(y, predicted_values)"
   ]
  },
  {
   "cell_type": "code",
   "execution_count": 161,
   "id": "0a057639-0a4d-4752-9ce1-69a49ccca2e7",
   "metadata": {},
   "outputs": [],
   "source": [
    "with open(\"LinearRegression.pkl\", \"wb\") as arquivo:\n",
    "    pk.dump(rental_price_model, arquivo)"
   ]
  },
  {
   "cell_type": "code",
   "execution_count": 166,
   "id": "c44fb593-634c-42cb-89af-00d5b5d59bec",
   "metadata": {},
   "outputs": [],
   "source": [
    "pessoa_df = pd.DataFrame([{\n",
    "     'host_id': 2845,\n",
    "     'latitude': 40.75362,\n",
    "     'longitude': -73.98377,\n",
    "     'minimo_noites': 1,\n",
    "     'disponibilidade_365': 355,\n",
    "    'Entire home/apt': 1,\n",
    "    'Private room': 0,\n",
    "    'Shared room': 0\n",
    "}])\n"
   ]
  },
  {
   "cell_type": "code",
   "execution_count": 167,
   "id": "b58f0595-58a5-4e6b-95fa-1a1878c7f7c4",
   "metadata": {},
   "outputs": [
    {
     "name": "stdout",
     "output_type": "stream",
     "text": [
      "O valor de preço previsto é de 180.48 U$D\n"
     ]
    }
   ],
   "source": [
    "predict_value_question = rental_price_model.predict(pessoa_df)\n",
    "print(f'O valor de preço previsto é de {predict_value_question[0]:.2f} U$D')"
   ]
  },
  {
   "cell_type": "code",
   "execution_count": null,
   "id": "ee51b049-313d-4c6c-a947-482cd6d0e974",
   "metadata": {},
   "outputs": [],
   "source": []
  }
 ],
 "metadata": {
  "kernelspec": {
   "display_name": "JupyterLab Server",
   "language": "python",
   "name": "jlab_server"
  },
  "language_info": {
   "codemirror_mode": {
    "name": "ipython",
    "version": 3
   },
   "file_extension": ".py",
   "mimetype": "text/x-python",
   "name": "python",
   "nbconvert_exporter": "python",
   "pygments_lexer": "ipython3",
   "version": "3.8.10"
  }
 },
 "nbformat": 4,
 "nbformat_minor": 5
}
